{
  "nbformat": 4,
  "nbformat_minor": 0,
  "metadata": {
    "colab": {
      "provenance": []
    },
    "kernelspec": {
      "name": "python3",
      "display_name": "Python 3"
    },
    "language_info": {
      "name": "python"
    }
  },
  "cells": [
    {
      "cell_type": "markdown",
      "source": [
        "1. The data. I already prepared it during the tutorial."
      ],
      "metadata": {
        "id": "5VTh6bOIcMGi"
      }
    },
    {
      "cell_type": "code",
      "source": [
        "# link to GitHub\n",
        "# No need to download this dat YET\n",
        "link=\"https://github.com/DACSS-CSSmeths/Spatial-Exploring/raw/refs/heads/main/maps/countriesCIA.gpkg\"\n",
        "\n",
        "# we use geopandas\n",
        "# geopandas is in Colab, you need to install it in Anaconda.\n",
        "import geopandas as gpd\n",
        "\n",
        "# read the data\n",
        "countriesCIA=gpd.read_file(link, layer='cia')"
      ],
      "metadata": {
        "id": "qSxJSQB3cONv"
      },
      "execution_count": null,
      "outputs": []
    },
    {
      "cell_type": "markdown",
      "source": [
        "Take a look at it:"
      ],
      "metadata": {
        "id": "hkLqaTfcxil_"
      }
    },
    {
      "cell_type": "code",
      "source": [
        "# see some rows\n",
        "countriesCIA.head()"
      ],
      "metadata": {
        "id": "uyG2akaSxkyo"
      },
      "execution_count": null,
      "outputs": []
    },
    {
      "cell_type": "code",
      "source": [
        "# the data types\n",
        "countriesCIA.info()"
      ],
      "metadata": {
        "id": "2S8ih3Cdxmpp"
      },
      "execution_count": null,
      "outputs": []
    },
    {
      "cell_type": "markdown",
      "source": [
        "2. The variable for the homework"
      ],
      "metadata": {
        "id": "kpjskYDFxt5_"
      }
    },
    {
      "cell_type": "code",
      "source": [
        "# we want to CUT this variable into bins\n",
        "countriesCIA.obesityAdults_rate.describe()"
      ],
      "metadata": {
        "id": "nvuvQfHzeR2p"
      },
      "execution_count": null,
      "outputs": []
    },
    {
      "cell_type": "markdown",
      "source": [
        "For the homework you may need to install pysal in Colab and in Anaconda."
      ],
      "metadata": {
        "id": "KRqBHsGqx0Hd"
      }
    },
    {
      "cell_type": "code",
      "source": [
        "# !pip install pysal # write a \"#\" (no quotations) after the installation"
      ],
      "metadata": {
        "id": "B4l62OvKdUxy"
      },
      "execution_count": null,
      "outputs": []
    },
    {
      "cell_type": "markdown",
      "source": [
        "I requested to decide what is the best scheme if I wanted to split the data into 5 intervals.\n",
        "\n",
        "Below you see\n",
        "\n",
        "\n",
        "\n",
        "```\n",
        "theVar=countriesCIA.TobaccoUse_perc\n",
        "```\n",
        "\n",
        "Change the variable\n",
        "\n"
      ],
      "metadata": {
        "id": "OgAtnLIXyA6S"
      }
    },
    {
      "cell_type": "code",
      "source": [
        "\n",
        "import mapclassify\n",
        "import numpy as np\n",
        "\n",
        "np.random.seed(12345) # so we all get the same results!\n",
        "\n",
        "# let's try 5 bins\n",
        "K=5\n",
        "\n",
        "theVar=countriesCIA.TobaccoUse_perc\n",
        "\n",
        "\n",
        "# same interval width, easy interpretation\n",
        "ei5 = mapclassify.EqualInterval(theVar, k=K)\n",
        "# same interval width based on standard deviation, easy - but not as the previous one, poor when high skewness\n",
        "msd = mapclassify.StdMean(theVar)\n",
        "# interval width varies, counts per interval are close, not easy to grasp, repeated values complicate cuts\n",
        "q5=mapclassify.Quantiles(theVar,k=K)\n",
        "# based on similarity, good for multimodal data\n",
        "mb5 = mapclassify.MaximumBreaks(theVar, k=K)\n",
        "# based on similarity, optimizer\n",
        "fj5 = mapclassify.FisherJenks(theVar, k=K)\n",
        "# based on similarity, optimizer\n",
        "jc5 = mapclassify.JenksCaspall(theVar, k=K)\n",
        "# based on similarity, optimizer\n",
        "mp5 = mapclassify.MaxP(theVar, k=K)\n",
        "\n",
        "###### based on similarity, good for skewed data\n",
        "ht = mapclassify.HeadTailBreaks(theVar) # no K needed"
      ],
      "metadata": {
        "id": "QLwIcmqAclyj"
      },
      "execution_count": null,
      "outputs": []
    },
    {
      "cell_type": "markdown",
      "source": [
        "With these results, you choose the best (select the shortest bar).\n",
        "\n",
        "**WHICH ONE IS THE BEST?**"
      ],
      "metadata": {
        "id": "9VQLV-HzyOpl"
      }
    },
    {
      "cell_type": "code",
      "source": [
        "import pandas as pd\n",
        "\n",
        "# Create a list of classifiers\n",
        "class5 = ei5,msd, q5,mb5,  ht, fj5, jc5, mp5\n",
        "\n",
        "# Collect ADCM for each classifier\n",
        "fits = np.array([ c.adcm for c in class5])\n",
        "# Convert ADCM scores to a DataFrame\n",
        "adcms = pd.DataFrame(fits)\n",
        "# Add classifier names\n",
        "adcms['classifier'] = [c.name for c in class5]\n",
        "# Add column names to the ADCM\n",
        "adcms.columns = ['ADCM', 'Classifier']\n",
        "\n",
        "# see the results\n",
        "adcms.sort_values('ADCM').plot.barh(x='Classifier')"
      ],
      "metadata": {
        "id": "S2EY_tyGdqiu"
      },
      "execution_count": null,
      "outputs": []
    },
    {
      "cell_type": "markdown",
      "source": [
        "The winner is one of these\n",
        "\n",
        "\n",
        "\n",
        "```\n",
        "ei5,msd, q5,mb5,  ht, fj5, jc5, mp5\n",
        "```\n",
        "\n"
      ],
      "metadata": {
        "id": "yotLjMOoy9-m"
      }
    },
    {
      "cell_type": "markdown",
      "source": [
        "I wrote:\n",
        "\n",
        "```\n",
        "countriesCIA['obesity_code']=fj5.yb\n",
        "```\n",
        "when FisherJenks was the best....what would yo change below if we are using 'countriesCIA.TobaccoUse_perc'?\n"
      ],
      "metadata": {
        "id": "oOO0KorxzzqL"
      }
    },
    {
      "cell_type": "code",
      "source": [
        "# map of labels for the levels\n",
        "newLevels={0:'1.very low',1:'2.low', 2:'3.average',3:'4.high', 4:'5.very high'}\n",
        "\n",
        "# get the values\n",
        "countriesCIA['tobacco_code']=fj5.yb\n",
        "\n",
        "# a copy in another column\n",
        "countriesCIA=countriesCIA.assign(obesity_levels=countriesCIA.tobacco_code)\n",
        "\n",
        "# recoding\n",
        "countriesCIA.replace({'tobacco_levels':newLevels}, inplace=True)\n"
      ],
      "metadata": {
        "id": "oPhKgPUcd3UF"
      },
      "execution_count": null,
      "outputs": []
    },
    {
      "cell_type": "markdown",
      "source": [
        "If the winner was FisherJenks you go ahead and answer the question:\n",
        "**Find the countries that are doing the best in all three variables?** (use the columns ending in _code_ for simplicity)"
      ],
      "metadata": {
        "id": "Y7bXEATZ0cb2"
      }
    }
  ]
}